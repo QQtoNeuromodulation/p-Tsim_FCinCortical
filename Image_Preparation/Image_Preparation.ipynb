{
 "cells": [
  {
   "attachments": {},
   "cell_type": "markdown",
   "metadata": {},
   "source": [
    "Author: **Soroosh Sanatkhani**\\\n",
    "Columbia University\\\n",
    "Created: February 2, 2023\\\n",
    "Last Modified: February 6, 2023"
   ]
  },
  {
   "cell_type": "code",
   "execution_count": 1,
   "metadata": {},
   "outputs": [],
   "source": [
    "import os"
   ]
  },
  {
   "attachments": {},
   "cell_type": "markdown",
   "metadata": {},
   "source": [
    "# Mergin MRI with CT\n",
    "### Input files are:\n",
    "MRI_Original_corrected.nii.gz\\\n",
    "MRI_Skull_corrected.nii.gz\\\n",
    "CT_cropped.nii.gz"
   ]
  },
  {
   "cell_type": "code",
   "execution_count": 2,
   "metadata": {},
   "outputs": [],
   "source": [
    "# Resampling MRI:\n",
    "if(os.path.exists(\"./MRI.nii.gz\")): os.remove(\"./MRI.nii.gz\")\n",
    "if(os.path.exists(\"./MRI_Skull.nii.gz\")): os.remove(\"./MRI_Skull.nii.gz\")\n",
    "\n",
    "!flirt -in ./Inputs/MRI_Original_corrected.nii.gz -ref ./Inputs/MRI_Original_corrected.nii.gz -applyisoxfm 0.3 -nosearch -out MRI.nii.gz\n",
    "!flirt -in ./Inputs/MRI_Skull_corrected.nii.gz -ref ./Inputs/MRI_Skull_corrected.nii.gz -applyisoxfm 0.3 -nosearch -out MRI_Skull.nii.gz\n",
    "\n",
    "# Registering CT to MRI:\n",
    "if(os.path.exists(\"./CT_registered.nii.gz\")): os.remove(\"./CT_registered.nii.gz\")\n",
    "if(os.path.exists(\"./CT_registered.mat\")): os.remove(\"./CT_registered.mat\")\n",
    "!flirt -in ./Inputs/CT_cropped.nii.gz -ref MRI_Skull.nii.gz -out CT_registered.nii.gz -omat CT_registered.mat -bins 256 -cost corratio -searchrx -90 90 -searchry -90 90 -searchrz -90 90 -dof 12 -interp trilinear\n",
    "os.remove(\"./MRI_Skull.nii.gz\")\n",
    "\n",
    "# Resampling the Registered CT according to the MRI:\n",
    "if(os.path.exists(\"./CT.nii.gz\")): os.remove(\"./CT.nii.gz\")\n",
    "!flirt -in CT_registered.nii.gz -ref MRI.nii.gz -out CT.nii.gz -applyxfm -usesqform\n",
    "\n",
    "# Combining the CT with MRI:\n",
    "if(os.path.exists(\"./CT_Skull_mask.nii.gz\")): os.remove(\"./CT_Skull_mask.nii.gz\")\n",
    "!fslmaths CT.nii.gz -bin CT_Skull_mask.nii.gz\n",
    "!fslmaths CT_Skull_mask.nii.gz -sub 1 -abs CT_Skull_mask_inverted.nii.gz\n",
    "!fslmaths CT.nii.gz -mul CT_Skull_mask.nii.gz CT_Skull.nii.gz\n",
    "!fslmaths CT_Skull_mask_inverted.nii.gz -mul MRI.nii.gz -add CT_Skull.nii.gz MRI_CT.nii.gz\n",
    "os.remove(\"./CT.nii.gz\")\n",
    "os.remove(\"./CT_Skull_mask_inverted.nii.gz\")\n",
    "os.remove(\"./CT_Skull.nii.gz\")\n",
    "os.remove(\"./MRI.nii.gz\")\n",
    "os.remove(\"./CT_registered.nii.gz\")\n",
    "os.remove(\"./CT_registered.mat\")"
   ]
  },
  {
   "attachments": {},
   "cell_type": "markdown",
   "metadata": {},
   "source": [
    "# Creating parts:\n",
    "### Input files are:\n",
    "Outside.nii.gz\\\n",
    "T1w_mask_resample.nii.gz"
   ]
  },
  {
   "cell_type": "code",
   "execution_count": 5,
   "metadata": {},
   "outputs": [
    {
     "name": "stdout",
     "output_type": "stream",
     "text": [
      "/home/soroosh/fsl/bin/fslreorient2std: 1: bc: not found\n",
      "++ no -frac option: defaulting to -union\n",
      "++ processing 1 input dataset(s), NN=2...\n",
      "++ padding all datasets by 0 (for dilations)\n",
      "++ frac 0 over 1 volumes gives min count 0\n",
      "++ voxel limits: 0 clipped, 3462227 survived, 94832567 were zero\n",
      "++ filled 23541 holes (264202 voxels)\n",
      "++ writing result Brain_plus_Skull_filled.nii.gz...\n",
      "++ Output dataset ./Brain_plus_Skull_filled.nii.gz\n"
     ]
    }
   ],
   "source": [
    "!fslmaths ./Inputs/ITKSnap/Outside.nii.gz -kernel 3D -dilD Outside_dilated_1.nii.gz\n",
    "!fslmaths Outside_dilated_1.nii.gz -kernel 3D -dilD Outside_dilated_2.nii.gz\n",
    "os.remove(\"./Outside_dilated_1.nii.gz\")\n",
    "!fslmaths Outside_dilated_2.nii.gz -kernel 3D -dilD Outside_dilated_3.nii.gz\n",
    "os.remove(\"./Outside_dilated_2.nii.gz\")\n",
    "!fslmaths Outside_dilated_3.nii.gz -kernel 3D -dilD Outside_dilated_4.nii.gz\n",
    "os.remove(\"./Outside_dilated_3.nii.gz\")\n",
    "!fslmaths Outside_dilated_4.nii.gz -kernel 3D -dilD Outside_dilated_5.nii.gz\n",
    "os.remove(\"./Outside_dilated_4.nii.gz\")\n",
    "if(os.path.exists(\"./Fitted/Skin_mask.nii.gz\")): os.remove(\"./Fitted/Skin_mask.nii.gz\")\n",
    "!fslmaths Outside_dilated_5.nii.gz -sub ./Inputs/ITKSnap/Outside.nii.gz ./Fitted/Skin_mask.nii.gz\n",
    "os.remove(\"./Outside_dilated_5.nii.gz\")\n",
    "!fslmaths ./Inputs/ITKSnap/Outside.nii.gz -sub 1 -abs  Inside.nii.gz\n",
    "!fslreorient2std ./Inputs/T1w_mask_resample.nii.gz Brain_mask_corrected.nii.gz\n",
    "!flirt -in Brain_mask_corrected -ref MRI_CT.nii.gz -out Brain_mask_registered.nii.gz -applyxfm -usesqform\n",
    "os.remove(\"./Brain_mask_corrected.nii.gz\")\n",
    "!fslmaths Brain_mask_registered -bin Brain_mask\n",
    "os.remove(\"./Brain_mask_registered.nii.gz\")\n",
    "!fslmaths Brain_mask -add CT_Skull_mask.nii.gz -bin Brain_plus_Skull\n",
    "os.remove(\"./Brain_mask.nii.gz\")\n",
    "!3dmask_tool -input Brain_plus_Skull.nii.gz -prefix Brain_plus_Skull_filled.nii.gz -fill_holes -fill_dirs RL\n",
    "os.remove(\"./Brain_plus_Skull.nii.gz\")\n",
    "if(os.path.exists(\"./Fitted/Muscle_mask.nii.gz\")): os.remove(\"./Fitted/Muscle_mask.nii.gz\")\n",
    "if(os.path.exists(\"./Fitted/Brain_mask.nii.gz\")): os.remove(\"./Fitted/Brain_mask.nii.gz\")\n",
    "!fslmaths Inside.nii.gz -sub Brain_plus_Skull_filled.nii.gz -sub ./Fitted/Skin_mask.nii.gz -bin ./Fitted/Muscle_mask.nii.gz\n",
    "!fslmaths Brain_plus_Skull_filled.nii.gz -sub CT_Skull_mask.nii.gz -bin ./Fitted/Brain_mask.nii.gz\n",
    "os.remove(\"./Brain_plus_Skull_filled.nii.gz\")\n",
    "if(os.path.exists(\"./Fitted/MRI_CT.nii.gz\")): os.remove(\"./Fitted/MRI_CT.nii.gz\")\n",
    "!fslmaths MRI_CT.nii.gz -mul Inside.nii.gz ./Fitted/MRI_CT.nii.gz\n",
    "os.remove(\"./MRI_CT.nii.gz\")\n",
    "if(os.path.exists(\"./Fitted/CT_Skull_mask.nii.gz\")): os.remove(\"./Fitted/CT_Skull_mask.nii.gz\")\n",
    "!mv CT_Skull_mask.nii.gz ./Fitted/CT_Skull_mask.nii.gz\n",
    "!mv Inside.nii.gz ./Fitted/Inside.nii.gz"
   ]
  },
  {
   "attachments": {},
   "cell_type": "markdown",
   "metadata": {},
   "source": [
    "# Cropping"
   ]
  },
  {
   "cell_type": "code",
   "execution_count": 6,
   "metadata": {},
   "outputs": [],
   "source": [
    "!fslroi ./Fitted/CT_Skull_mask.nii.gz ./Cropped/CT_Skull_mask.nii.gz 1 279 138 317 290 190\n",
    "!fslroi ./Fitted/MRI_CT.nii.gz ./Cropped/MRI_CT.nii.gz 1 279 138 317 290 190\n",
    "!fslroi ./Fitted/Muscle_mask.nii.gz ./Cropped/Muscle_mask.nii.gz 1 279 138 317 290 190\n",
    "!fslroi ./Fitted/Skin_mask.nii.gz ./Cropped/Skin_mask.nii.gz 1 279 138 317 290 190\n",
    "!fslroi ./Fitted/Brain_mask.nii.gz ./Cropped/Brain_mask.nii.gz 1 279 138 317 290 190\n",
    "!fslroi ./Fitted/Inside.nii.gz ./Cropped/Inside.nii.gz 1 279 138 317 290 190"
   ]
  },
  {
   "attachments": {},
   "cell_type": "markdown",
   "metadata": {},
   "source": [
    "# Cleaning\n",
    "CLean the skin mask and inside using Slicer-->Segmentation-->remove islands-->export model and labels-->save .nii.gz and put them in ./Cleaned folder"
   ]
  },
  {
   "cell_type": "code",
   "execution_count": 7,
   "metadata": {},
   "outputs": [],
   "source": [
    "!fslmaths ./Cropped/MRI_CT.nii.gz -mul ./Cleaned/Inside.nii.gz ./Cleaned/MRI_CT.nii.gz\n",
    "!cp ./Cropped/Muscle_mask.nii.gz ./Cleaned/Muscle_mask.nii.gz\n",
    "!cp ./Cropped/CT_Skull_mask.nii.gz ./Cleaned/CT_Skull_mask.nii.gz\n",
    "!cp ./Cropped/Brain_mask.nii.gz ./Cleaned/Brain_mask.nii.gz"
   ]
  },
  {
   "attachments": {},
   "cell_type": "markdown",
   "metadata": {},
   "source": [
    "# Padding"
   ]
  },
  {
   "cell_type": "code",
   "execution_count": 4,
   "metadata": {},
   "outputs": [
    {
     "name": "stdout",
     "output_type": "stream",
     "text": [
      "++ 3dZeropad: AFNI version=AFNI_22.3.07 (Dec  2 2022) [64-bit]\n",
      "++ output dataset: ./Padded/MRI_CT+orig.BRIK\n",
      "++ 3dZeropad: AFNI version=AFNI_22.3.07 (Dec  2 2022) [64-bit]\n",
      "++ output dataset: ./Padded/Brain_mask+orig.BRIK\n",
      "++ 3dZeropad: AFNI version=AFNI_22.3.07 (Dec  2 2022) [64-bit]\n",
      "++ output dataset: ./Padded/CT_Skull_mask+orig.BRIK\n",
      "++ 3dZeropad: AFNI version=AFNI_22.3.07 (Dec  2 2022) [64-bit]\n",
      "++ output dataset: ./Padded/Muscle_mask+orig.BRIK\n",
      "++ 3dZeropad: AFNI version=AFNI_22.3.07 (Dec  2 2022) [64-bit]\n",
      "++ output dataset: ./Padded/Skin_mask+orig.BRIK\n",
      "++ 3dAFNItoNIFTI: AFNI version=AFNI_22.3.07 (Dec  2 2022) [64-bit]\n",
      "++ 3dAFNItoNIFTI: AFNI version=AFNI_22.3.07 (Dec  2 2022) [64-bit]\n",
      "++ 3dAFNItoNIFTI: AFNI version=AFNI_22.3.07 (Dec  2 2022) [64-bit]\n",
      "++ 3dAFNItoNIFTI: AFNI version=AFNI_22.3.07 (Dec  2 2022) [64-bit]\n",
      "++ 3dAFNItoNIFTI: AFNI version=AFNI_22.3.07 (Dec  2 2022) [64-bit]\n"
     ]
    }
   ],
   "source": [
    "if(os.path.exists(\"./Padded/MRI_CT.nii.gz\")): os.remove(\"./Padded/MRI_CT.nii.gz\")\n",
    "if(os.path.exists(\"./Padded/Brain_mask.nii.gz\")): os.remove(\"./Padded/Brain_mask.nii.gz\")\n",
    "if(os.path.exists(\"./Padded/CT_Skull_mask.nii.gz\")): os.remove(\"./Padded/CT_Skull_mask.nii.gz\")\n",
    "if(os.path.exists(\"./Padded/Muscle_mask.nii.gz\")): os.remove(\"./Padded/Muscle_mask.nii.gz\")\n",
    "if(os.path.exists(\"./Padded/Skin_mask.nii.gz\")): os.remove(\"./Padded/Skin_mask.nii.gz\")\n",
    "\n",
    "!3dZeropad -prefix ./Padded/MRI_CT -L 100 -S 100 ./Cleaned/MRI_CT.nii.gz\n",
    "!3dZeropad -prefix ./Padded/Brain_mask -L 100 -S 100 ./Cleaned/Brain_mask.nii.gz\n",
    "!3dZeropad -prefix ./Padded/CT_Skull_mask -L 100 -S 100 ./Cleaned/CT_Skull_mask.nii.gz\n",
    "!3dZeropad -prefix ./Padded/Muscle_mask -L 100 -S 100 ./Cleaned/Muscle_mask.nii.gz\n",
    "!3dZeropad -prefix ./Padded/Skin_mask -L 100 -S 100 ./Cleaned/Skin_mask.nii.gz\n",
    "\n",
    "!3dAFNItoNIFTI -prefix ./Padded/MRI_CT.nii.gz ./Padded/MRI_CT+orig\n",
    "!3dAFNItoNIFTI -prefix ./Padded/Brain_mask.nii.gz ./Padded/Brain_mask+orig\n",
    "!3dAFNItoNIFTI -prefix ./Padded/CT_Skull_mask.nii.gz ./Padded/CT_Skull_mask+orig\n",
    "!3dAFNItoNIFTI -prefix ./Padded/Muscle_mask.nii.gz ./Padded/Muscle_mask+orig\n",
    "!3dAFNItoNIFTI -prefix ./Padded/Skin_mask.nii.gz ./Padded/Skin_mask+orig\n",
    "\n",
    "!rm ./Padded/*.BRIK\n",
    "!rm ./Padded/*.BRIK.gz\n",
    "!rm ./Padded/*.HEAD"
   ]
  }
 ],
 "metadata": {
  "kernelspec": {
   "display_name": "Python 3",
   "language": "python",
   "name": "python3"
  },
  "language_info": {
   "codemirror_mode": {
    "name": "ipython",
    "version": 3
   },
   "file_extension": ".py",
   "mimetype": "text/x-python",
   "name": "python",
   "nbconvert_exporter": "python",
   "pygments_lexer": "ipython3",
   "version": "3.10.6"
  },
  "orig_nbformat": 4,
  "vscode": {
   "interpreter": {
    "hash": "e7370f93d1d0cde622a1f8e1c04877d8463912d04d973331ad4851f04de6915a"
   }
  }
 },
 "nbformat": 4,
 "nbformat_minor": 2
}
